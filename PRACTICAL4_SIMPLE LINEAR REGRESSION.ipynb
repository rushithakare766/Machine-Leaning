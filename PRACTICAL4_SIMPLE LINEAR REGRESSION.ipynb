{
 "cells": [
  {
   "cell_type": "code",
   "execution_count": 3,
   "metadata": {},
   "outputs": [],
   "source": [
    "import pandas as pd\n",
    "import numpy as np\n",
    "import statsmodels.api as sm\n",
    "import seaborn as sns\n",
    "import matplotlib.pyplot as plt\n",
    "import math\n",
    "\n",
    "df = pd.read_csv('AttendanceMarksSA.csv')"
   ]
  },
  {
   "cell_type": "markdown",
   "metadata": {},
   "source": [
    "# Correlation Analysis"
   ]
  },
  {
   "cell_type": "code",
   "execution_count": 4,
   "metadata": {},
   "outputs": [
    {
     "data": {
      "text/html": [
       "<style  type=\"text/css\" >\n",
       "#T_dbb331a5_6893_11ec_99f6_6c6a770b5026row0_col0,#T_dbb331a5_6893_11ec_99f6_6c6a770b5026row1_col1,#T_dbb331a5_6893_11ec_99f6_6c6a770b5026row2_col2{\n",
       "            background-color:  #b40426;\n",
       "            color:  #f1f1f1;\n",
       "        }#T_dbb331a5_6893_11ec_99f6_6c6a770b5026row0_col1,#T_dbb331a5_6893_11ec_99f6_6c6a770b5026row0_col2,#T_dbb331a5_6893_11ec_99f6_6c6a770b5026row2_col0{\n",
       "            background-color:  #3b4cc0;\n",
       "            color:  #f1f1f1;\n",
       "        }#T_dbb331a5_6893_11ec_99f6_6c6a770b5026row1_col0{\n",
       "            background-color:  #4257c9;\n",
       "            color:  #f1f1f1;\n",
       "        }#T_dbb331a5_6893_11ec_99f6_6c6a770b5026row1_col2{\n",
       "            background-color:  #f18f71;\n",
       "            color:  #000000;\n",
       "        }#T_dbb331a5_6893_11ec_99f6_6c6a770b5026row2_col1{\n",
       "            background-color:  #f29072;\n",
       "            color:  #000000;\n",
       "        }</style><table id=\"T_dbb331a5_6893_11ec_99f6_6c6a770b5026\" ><thead>    <tr>        <th class=\"blank level0\" ></th>        <th class=\"col_heading level0 col0\" >Attendance</th>        <th class=\"col_heading level0 col1\" >MSE</th>        <th class=\"col_heading level0 col2\" >ESE</th>    </tr></thead><tbody>\n",
       "                <tr>\n",
       "                        <th id=\"T_dbb331a5_6893_11ec_99f6_6c6a770b5026level0_row0\" class=\"row_heading level0 row0\" >Attendance</th>\n",
       "                        <td id=\"T_dbb331a5_6893_11ec_99f6_6c6a770b5026row0_col0\" class=\"data row0 col0\" >1.000000</td>\n",
       "                        <td id=\"T_dbb331a5_6893_11ec_99f6_6c6a770b5026row0_col1\" class=\"data row0 col1\" >-0.080943</td>\n",
       "                        <td id=\"T_dbb331a5_6893_11ec_99f6_6c6a770b5026row0_col2\" class=\"data row0 col2\" >-0.109972</td>\n",
       "            </tr>\n",
       "            <tr>\n",
       "                        <th id=\"T_dbb331a5_6893_11ec_99f6_6c6a770b5026level0_row1\" class=\"row_heading level0 row1\" >MSE</th>\n",
       "                        <td id=\"T_dbb331a5_6893_11ec_99f6_6c6a770b5026row1_col0\" class=\"data row1 col0\" >-0.080943</td>\n",
       "                        <td id=\"T_dbb331a5_6893_11ec_99f6_6c6a770b5026row1_col1\" class=\"data row1 col1\" >1.000000</td>\n",
       "                        <td id=\"T_dbb331a5_6893_11ec_99f6_6c6a770b5026row1_col2\" class=\"data row1 col2\" >0.751530</td>\n",
       "            </tr>\n",
       "            <tr>\n",
       "                        <th id=\"T_dbb331a5_6893_11ec_99f6_6c6a770b5026level0_row2\" class=\"row_heading level0 row2\" >ESE</th>\n",
       "                        <td id=\"T_dbb331a5_6893_11ec_99f6_6c6a770b5026row2_col0\" class=\"data row2 col0\" >-0.109972</td>\n",
       "                        <td id=\"T_dbb331a5_6893_11ec_99f6_6c6a770b5026row2_col1\" class=\"data row2 col1\" >0.751530</td>\n",
       "                        <td id=\"T_dbb331a5_6893_11ec_99f6_6c6a770b5026row2_col2\" class=\"data row2 col2\" >1.000000</td>\n",
       "            </tr>\n",
       "    </tbody></table>"
      ],
      "text/plain": [
       "<pandas.io.formats.style.Styler at 0x20f3c55f5b0>"
      ]
     },
     "execution_count": 4,
     "metadata": {},
     "output_type": "execute_result"
    }
   ],
   "source": [
    "corr=df.corr()\n",
    "corr.style.background_gradient(cmap='coolwarm')"
   ]
  },
  {
   "cell_type": "code",
   "execution_count": 5,
   "metadata": {},
   "outputs": [
    {
     "name": "stderr",
     "output_type": "stream",
     "text": [
      "C:\\Users\\public\\anaconda3\\lib\\site-packages\\seaborn\\_decorators.py:36: FutureWarning: Pass the following variables as keyword args: x, y. From version 0.12, the only valid positional argument will be `data`, and passing other arguments without an explicit keyword will result in an error or misinterpretation.\n",
      "  warnings.warn(\n"
     ]
    },
    {
     "data": {
      "text/plain": [
       "<AxesSubplot:xlabel='MSE', ylabel='ESE'>"
      ]
     },
     "execution_count": 5,
     "metadata": {},
     "output_type": "execute_result"
    },
    {
     "data": {
      "image/png": "[encoded data removed]",
      "text/plain": [
       "<Figure size 432x288 with 1 Axes>"
      ]
     },
     "metadata": {
      "needs_background": "light"
     },
     "output_type": "display_data"
    }
   ],
   "source": [
    "X = df[\"MSE\"]\n",
    "y = df[\"ESE\"]\n",
    "\n",
    "sns.scatterplot(X ,y)"
   ]
  },
  {
   "cell_type": "markdown",
   "metadata": {},
   "source": [
    "# Pre-processing"
   ]
  },
  {
   "cell_type": "code",
   "execution_count": 6,
   "metadata": {},
   "outputs": [
    {
     "name": "stdout",
     "output_type": "stream",
     "text": [
      "    const  MSE\n",
      "0     1.0   10\n",
      "1     1.0    7\n",
      "2     1.0    3\n",
      "3     1.0   16\n",
      "4     1.0    9\n",
      "..    ...  ...\n",
      "68    1.0   10\n",
      "69    1.0    8\n",
      "70    1.0    9\n",
      "71    1.0   11\n",
      "72    1.0   12\n",
      "\n",
      "[73 rows x 2 columns]\n"
     ]
    }
   ],
   "source": [
    "endog = df['ESE']\n",
    "exog = sm.add_constant(df[['MSE']])\n",
    "print(exog)"
   ]
  },
  {
   "cell_type": "markdown",
   "metadata": {},
   "source": [
    "# Model Building"
   ]
  },
  {
   "cell_type": "code",
   "execution_count": 7,
   "metadata": {},
   "outputs": [
    {
     "name": "stdout",
     "output_type": "stream",
     "text": [
      "                            OLS Regression Results                            \n",
      "==============================================================================\n",
      "Dep. Variable:                    ESE   R-squared:                       0.565\n",
      "Model:                            OLS   Adj. R-squared:                  0.559\n",
      "Method:                 Least Squares   F-statistic:                     92.14\n",
      "Date:                Wed, 29 Dec 2021   Prob (F-statistic):           1.85e-14\n",
      "Time:                        16:12:55   Log-Likelihood:                -210.66\n",
      "No. Observations:                  73   AIC:                             425.3\n",
      "Df Residuals:                      71   BIC:                             429.9\n",
      "Df Model:                           1                                         \n",
      "Covariance Type:            nonrobust                                         \n",
      "==============================================================================\n",
      "                 coef    std err          t      P>|t|      [0.025      0.975]\n",
      "------------------------------------------------------------------------------\n",
      "const         30.6664      1.741     17.616      0.000      27.195      34.137\n",
      "MSE            1.6322      0.170      9.599      0.000       1.293       1.971\n",
      "==============================================================================\n",
      "Omnibus:                        1.412   Durbin-Watson:                   1.441\n",
      "Prob(Omnibus):                  0.494   Jarque-Bera (JB):                1.119\n",
      "Skew:                          -0.029   Prob(JB):                        0.572\n",
      "Kurtosis:                       2.396   Cond. No.                         34.9\n",
      "==============================================================================\n",
      "\n",
      "Notes:\n",
      "[1] Standard Errors assume that the covariance matrix of the errors is correctly specified.\n"
     ]
    }
   ],
   "source": [
    "# Fit and summarize OLS model\n",
    "mod = sm.OLS(endog, exog)\n",
    "results = mod.fit()\n",
    "print (results.summary())"
   ]
  },
  {
   "cell_type": "code",
   "execution_count": 8,
   "metadata": {},
   "outputs": [],
   "source": [
    "def RSE(y_true, y_predicted):\n",
    "   \n",
    "    y_true = np.array(y_true)\n",
    "    y_predicted = np.array(y_predicted)\n",
    "    RSS = np.sum(np.square(y_true - y_predicted))\n",
    "\n",
    "    rse = math.sqrt(RSS / (len(y_true) - 2))\n",
    "    return rse"
   ]
  },
  {
   "cell_type": "code",
   "execution_count": 9,
   "metadata": {},
   "outputs": [
    {
     "name": "stdout",
     "output_type": "stream",
     "text": [
      "4.396224549647787\n"
     ]
    }
   ],
   "source": [
    "rse= RSE(df['ESE'],results.predict())\n",
    "print(rse)"
   ]
  },
  {
   "cell_type": "markdown",
   "metadata": {},
   "source": [
    "# Intepreting the result of Model One"
   ]
  },
  {
   "cell_type": "raw",
   "metadata": {},
   "source": [
    "(1) The values of t-statistics for y-intercept and slope are very high. Also, the p-values for these parameters are < 0.05. These observations validate the accuracy of y-intercept and slope. Hence, the results are statistically significant.\n",
    "\n",
    "(2) The value R2 is 0.56. Though it is not as high as required to indicate a strong linear relationship, it shows the existence of linearity between MSE marks and ESE marks.\n",
    "\n",
    "(3) The value of calculated RSE is 4.3. on training data set. An error of +/- 4 is an acceptable error in predicting the performance of ESE.\n",
    "\n",
    "The second model aims to explore the relationship between classroom attendance and End Semester performance. First, it visualizes the correlation between classroom attendance and end semester performance."
   ]
  },
  {
   "cell_type": "code",
   "execution_count": 10,
   "metadata": {},
   "outputs": [
    {
     "name": "stderr",
     "output_type": "stream",
     "text": [
      "C:\\Users\\public\\anaconda3\\lib\\site-packages\\seaborn\\_decorators.py:36: FutureWarning: Pass the following variables as keyword args: x, y. From version 0.12, the only valid positional argument will be `data`, and passing other arguments without an explicit keyword will result in an error or misinterpretation.\n",
      "  warnings.warn(\n"
     ]
    },
    {
     "data": {
      "text/plain": [
       "<AxesSubplot:xlabel='Attendance', ylabel='ESE'>"
      ]
     },
     "execution_count": 10,
     "metadata": {},
     "output_type": "execute_result"
    },
    {
     "data": {
      "image/png": "[encoded data removed]",
      "text/plain": [
       "<Figure size 432x288 with 1 Axes>"
      ]
     },
     "metadata": {
      "needs_background": "light"
     },
     "output_type": "display_data"
    }
   ],
   "source": [
    "X1 = df[\"Attendance\"]\n",
    "y1 = df[\"ESE\"]\n",
    "\n",
    "sns.scatterplot(X1 ,y1)"
   ]
  },
  {
   "cell_type": "code",
   "execution_count": 11,
   "metadata": {},
   "outputs": [
    {
     "name": "stdout",
     "output_type": "stream",
     "text": [
      "    const  MSE\n",
      "0     1.0   10\n",
      "1     1.0    7\n",
      "2     1.0    3\n",
      "3     1.0   16\n",
      "4     1.0    9\n",
      "..    ...  ...\n",
      "68    1.0   10\n",
      "69    1.0    8\n",
      "70    1.0    9\n",
      "71    1.0   11\n",
      "72    1.0   12\n",
      "\n",
      "[73 rows x 2 columns]\n"
     ]
    }
   ],
   "source": [
    "endog1 = df['ESE']\n",
    "exog1 = sm.add_constant(df[['Attendance']])\n",
    "print(exog)"
   ]
  },
  {
   "cell_type": "code",
   "execution_count": 12,
   "metadata": {},
   "outputs": [
    {
     "name": "stdout",
     "output_type": "stream",
     "text": [
      "                            OLS Regression Results                            \n",
      "==============================================================================\n",
      "Dep. Variable:                    ESE   R-squared:                       0.012\n",
      "Model:                            OLS   Adj. R-squared:                 -0.002\n",
      "Method:                 Least Squares   F-statistic:                    0.8692\n",
      "Date:                Wed, 29 Dec 2021   Prob (F-statistic):              0.354\n",
      "Time:                        16:15:12   Log-Likelihood:                -240.58\n",
      "No. Observations:                  73   AIC:                             485.2\n",
      "Df Residuals:                      71   BIC:                             489.8\n",
      "Df Model:                           1                                         \n",
      "Covariance Type:            nonrobust                                         \n",
      "==============================================================================\n",
      "                 coef    std err          t      P>|t|      [0.025      0.975]\n",
      "------------------------------------------------------------------------------\n",
      "const         52.8841      6.753      7.831      0.000      39.419      66.349\n",
      "Attendance    -0.0765      0.082     -0.932      0.354      -0.240       0.087\n",
      "==============================================================================\n",
      "Omnibus:                        0.286   Durbin-Watson:                   1.788\n",
      "Prob(Omnibus):                  0.867   Jarque-Bera (JB):                0.425\n",
      "Skew:                           0.129   Prob(JB):                        0.808\n",
      "Kurtosis:                       2.730   Cond. No.                         716.\n",
      "==============================================================================\n",
      "\n",
      "Notes:\n",
      "[1] Standard Errors assume that the covariance matrix of the errors is correctly specified.\n"
     ]
    }
   ],
   "source": [
    "# Fit and summarize OLS model\n",
    "mod1 = sm.OLS(endog1, exog1)\n",
    "results1 = mod1.fit()\n",
    "print (results1.summary())"
   ]
  },
  {
   "cell_type": "markdown",
   "metadata": {},
   "source": [
    "# Intepreting the result of Second Model:"
   ]
  },
  {
   "cell_type": "raw",
   "metadata": {},
   "source": [
    "The R2 value is 0.012, which indicates a very weak or non-existence of a linear relationship between classroom attendance and end semester performance. This implies that students might be physically attending classes without any mindful academic engagement. Also, the absolute value of t-statistic for slope is below one which is tiny to indicate a linear relationship. Further, the p-value for slope is > 0.05, showing no statistically significant relationship between attendance and ESE marks.\n",
    "\n",
    "Hence, in the context of this dataset, attendance is a bad predictor for end semester performance."
   ]
  },
  {
   "cell_type": "code",
   "execution_count": null,
   "metadata": {},
   "outputs": [],
   "source": []
  }
 ],
 "metadata": {
  "kernelspec": {
   "display_name": "Python 3",
   "language": "python",
   "name": "python3"
  },
  "language_info": {
   "codemirror_mode": {
    "name": "ipython",
    "version": 3
   },
   "file_extension": ".py",
   "mimetype": "text/x-python",
   "name": "python",
   "nbconvert_exporter": "python",
   "pygments_lexer": "ipython3",
   "version": "3.8.5"
  }
 },
 "nbformat": 4,
 "nbformat_minor": 4
}
